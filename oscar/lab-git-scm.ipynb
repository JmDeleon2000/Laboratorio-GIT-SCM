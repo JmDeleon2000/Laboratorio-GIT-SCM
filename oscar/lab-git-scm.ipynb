{
 "cells": [
  {
   "attachments": {},
   "cell_type": "markdown",
   "metadata": {},
   "source": [
    "### Workstation de Óscar"
   ]
  },
  {
   "attachments": {},
   "cell_type": "markdown",
   "metadata": {},
   "source": [
    "### Importante\n",
    "Para seguir el laboratorio debe comenzar en el cuaderno que está en el área de trabajo de Fritz hasta que se le indique volver aquí."
   ]
  },
  {
   "attachments": {},
   "cell_type": "markdown",
   "metadata": {},
   "source": [
    "<br/><br/><br/>Ahora que Max forzó un *commit* que cambió el historial y que Fritz lo arregló localmente sin publicar los cambios, Óscar termina de investigar como resolver un problema y hace un *commit*."
   ]
  },
  {
   "cell_type": "code",
   "execution_count": null,
   "metadata": {
    "vscode": {
     "languageId": "plaintext"
    }
   },
   "outputs": [],
   "source": [
    "%%bash\n",
    "echo \"Problema solucionado\" > solución.js\n",
    "git add solución.js\n",
    "git commit -a -m \"Problema solucionado\""
   ]
  },
  {
   "attachments": {},
   "cell_type": "markdown",
   "metadata": {},
   "source": [
    "Notar que ahora Óscar se encuentra en la misma situación que Fritz y al igual que él, hace un fetch antes de publicar su trabajo."
   ]
  },
  {
   "cell_type": "code",
   "execution_count": null,
   "metadata": {
    "vscode": {
     "languageId": "plaintext"
    }
   },
   "outputs": [],
   "source": [
    "%%bash\n",
    "git fetch origin master\n",
    "git log --graph --oneline --all"
   ]
  },
  {
   "attachments": {},
   "cell_type": "markdown",
   "metadata": {},
   "source": [
    "Pero Óscar no es tan cauteloso como Fritz y decide usar <span style=\"font-family: Consolas\">**git merge**</span> en vez de <span style=\"font-family: Consolas\">**git pull --rebase**</span>"
   ]
  },
  {
   "cell_type": "code",
   "execution_count": null,
   "metadata": {
    "vscode": {
     "languageId": "plaintext"
    }
   },
   "outputs": [],
   "source": [
    "%%bash\n",
    "git merge origin/master HEAD"
   ]
  },
  {
   "attachments": {},
   "cell_type": "markdown",
   "metadata": {},
   "source": [
    "⚠️ Ahora el historial reintrodujo el commit que Max quizo eliminar del historial."
   ]
  },
  {
   "cell_type": "code",
   "execution_count": null,
   "metadata": {
    "vscode": {
     "languageId": "plaintext"
    }
   },
   "outputs": [],
   "source": [
    "%%bash\n",
    "git log --graph --oneline --all"
   ]
  },
  {
   "attachments": {},
   "cell_type": "markdown",
   "metadata": {},
   "source": [
    "Peor aún, creyendo haber resuelto el problema, Óscar decide publicar su versión del trabajo."
   ]
  },
  {
   "cell_type": "code",
   "execution_count": null,
   "metadata": {
    "vscode": {
     "languageId": "plaintext"
    }
   },
   "outputs": [],
   "source": [
    "%%bash\n",
    "git push origin master"
   ]
  },
  {
   "attachments": {},
   "cell_type": "markdown",
   "metadata": {},
   "source": [
    "Continue en el cuaderno de Fritz."
   ]
  }
 ],
 "metadata": {
  "language_info": {
   "name": "python"
  },
  "orig_nbformat": 4
 },
 "nbformat": 4,
 "nbformat_minor": 2
}
