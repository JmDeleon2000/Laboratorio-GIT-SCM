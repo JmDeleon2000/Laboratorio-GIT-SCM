{
 "cells": [
  {
   "attachments": {},
   "cell_type": "markdown",
   "metadata": {},
   "source": [
    "### Workstation de Fritz\n",
    "Frtiz acaba de regresar de vacaciones y se compró una nueva computadora.<br/>\n",
    "**¿Qué comandos necesita usar Fritz para clonar el repositiorio y ponerse al día con los *commits* hechos en su ausencia?**<br/>\n",
    "*TIP: El repositorio remoto se encuentra en /home/jovyan/repos/local*"
   ]
  },
  {
   "cell_type": "code",
   "execution_count": null,
   "metadata": {
    "vscode": {
     "languageId": "plaintext"
    }
   },
   "outputs": [],
   "source": [
    "%%bash\n",
    "echo \"A continuación escriba los comandos\""
   ]
  },
  {
   "attachments": {},
   "cell_type": "markdown",
   "metadata": {},
   "source": [
    "### Importante\n",
    "Luego de este paso, regrese al cuaderno en el espacio de trabajo de Max y continue ahí hasta que se le indique."
   ]
  },
  {
   "attachments": {},
   "cell_type": "markdown",
   "metadata": {},
   "source": [
    "Una vez se pone al día y almuerza, Fritz avanza con su trabajo:"
   ]
  },
  {
   "cell_type": "code",
   "execution_count": null,
   "metadata": {
    "vscode": {
     "languageId": "plaintext"
    }
   },
   "outputs": [],
   "source": [
    "%%bash\n",
    "echo \"codigo fuente\" > foo.js\n",
    "git add foo.js\n",
    "git commit -a -m \"Añadir login\" "
   ]
  },
  {
   "attachments": {},
   "cell_type": "markdown",
   "metadata": {},
   "source": [
    "Antes de hacer push, Fritz decide hacer fetch para ver si su trabajo causará un conflicto"
   ]
  },
  {
   "cell_type": "code",
   "execution_count": null,
   "metadata": {
    "vscode": {
     "languageId": "plaintext"
    }
   },
   "outputs": [],
   "source": [
    "%%bash\n",
    "git fetch origin master\n",
    "git log --graph --oneline --all"
   ]
  },
  {
   "attachments": {},
   "cell_type": "markdown",
   "metadata": {},
   "source": [
    "Afortunadamente, en esta situación es posible usar <span style=\"font-family: Consolas\">**git pull --rebase**</span> para automaticamente solucionar el conflicto sin necesidad de crear un merge."
   ]
  },
  {
   "cell_type": "code",
   "execution_count": null,
   "metadata": {
    "vscode": {
     "languageId": "plaintext"
    }
   },
   "outputs": [],
   "source": [
    "%%bash\n",
    "git pull --rebase origin master"
   ]
  }
 ],
 "metadata": {
  "language_info": {
   "name": "python"
  },
  "orig_nbformat": 4
 },
 "nbformat": 4,
 "nbformat_minor": 2
}
