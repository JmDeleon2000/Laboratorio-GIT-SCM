{
 "cells": [
  {
   "attachments": {},
   "cell_type": "markdown",
   "metadata": {},
   "source": [
    "### Workstation de Fritz\n",
    "Frtiz acaba de regresar de vacaciones y se compró una nueva computadora.<br/>\n",
    "**¿Qué comandos necesita usar Fritz para clonar el repositiorio y ponerse al día?**"
   ]
  }
 ],
 "metadata": {
  "language_info": {
   "name": "python"
  },
  "orig_nbformat": 4
 },
 "nbformat": 4,
 "nbformat_minor": 2
}
