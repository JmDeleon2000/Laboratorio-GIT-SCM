{
 "cells": [
  {
   "attachments": {},
   "cell_type": "markdown",
   "metadata": {},
   "source": [
    "### Workstation de Fritz\n",
    "Frtiz acaba de regresar de vacaciones y se compró una nueva computadora.<br/>\n",
    "**¿Qué comandos necesita usar Fritz para clonar el repositiorio y ponerse al día con los *commits* hechos en su ausencia?**<br/>\n",
    "*TIP: El repositorio remoto se encuentra en /home/jovyan/repos/local*"
   ]
  },
  {
   "cell_type": "code",
   "execution_count": null,
   "metadata": {
    "vscode": {
     "languageId": "plaintext"
    }
   },
   "outputs": [],
   "source": [
    "%%bash\n",
    "echo \"A continuación escriba los comandos\""
   ]
  },
  {
   "attachments": {},
   "cell_type": "markdown",
   "metadata": {},
   "source": [
    "### Importante\n",
    "Luego de este paso, regrese al cuaderno en el espacio de trabajo de Óscar y continue aquí hasta que se le indique."
   ]
  },
  {
   "attachments": {},
   "cell_type": "markdown",
   "metadata": {},
   "source": [
    "Una vez se pone al día y almuerza, Fritz avanza con su trabajo:"
   ]
  },
  {
   "cell_type": "code",
   "execution_count": null,
   "metadata": {
    "vscode": {
     "languageId": "plaintext"
    }
   },
   "outputs": [],
   "source": [
    "%%bash\n",
    "echo \"codigo fuente\" > foo.js\n",
    "git add foo.js\n",
    "git commit -a -m \"Añadir login\" "
   ]
  },
  {
   "attachments": {},
   "cell_type": "markdown",
   "metadata": {},
   "source": [
    "Antes de hacer push, Fritz decide hacer fetch para ver si su trabajo causará un conflicto"
   ]
  },
  {
   "cell_type": "code",
   "execution_count": null,
   "metadata": {
    "vscode": {
     "languageId": "plaintext"
    }
   },
   "outputs": [],
   "source": [
    "%%bash\n",
    "git fetch origin master\n",
    "git log --graph --oneline --all"
   ]
  },
  {
   "attachments": {},
   "cell_type": "markdown",
   "metadata": {},
   "source": [
    "Afortunadamente, en esta situación es posible usar <span style=\"font-family: Consolas\">**git pull --rebase**</span> para automaticamente solucionar el conflicto sin necesidad de crear un merge."
   ]
  },
  {
   "cell_type": "code",
   "execution_count": null,
   "metadata": {
    "vscode": {
     "languageId": "plaintext"
    }
   },
   "outputs": [],
   "source": [
    "%%bash\n",
    "git pull --rebase origin master"
   ]
  },
  {
   "cell_type": "code",
   "execution_count": null,
   "metadata": {
    "vscode": {
     "languageId": "plaintext"
    }
   },
   "outputs": [],
   "source": [
    "%%bash\n",
    "git log --graph --oneline --all"
   ]
  },
  {
   "attachments": {},
   "cell_type": "markdown",
   "metadata": {},
   "source": [
    "### Importante\n",
    "Luego de este paso, regrese al cuaderno en el espacio de trabajo de Óscar."
   ]
  },
  {
   "attachments": {},
   "cell_type": "markdown",
   "metadata": {},
   "source": [
    "Ahora que Óscar publicó su merge, Fritz se vuelve a encontrar con el mismo problema:"
   ]
  },
  {
   "cell_type": "code",
   "execution_count": null,
   "metadata": {
    "vscode": {
     "languageId": "plaintext"
    }
   },
   "outputs": [],
   "source": [
    "%%bash\n",
    "git fetch origin master\n",
    "git log --graph --oneline --all"
   ]
  },
  {
   "attachments": {},
   "cell_type": "markdown",
   "metadata": {},
   "source": [
    "Y, si bien rebase resuelve el conflicto, no puede retirar el commit que Max quizo quitar del historial de modificación."
   ]
  },
  {
   "cell_type": "code",
   "execution_count": null,
   "metadata": {
    "vscode": {
     "languageId": "plaintext"
    }
   },
   "outputs": [],
   "source": [
    "%%bash\n",
    "git pull --rebase origin master"
   ]
  },
  {
   "cell_type": "code",
   "execution_count": null,
   "metadata": {
    "vscode": {
     "languageId": "plaintext"
    }
   },
   "outputs": [],
   "source": [
    "%%bash\n",
    "git log --graph --oneline --all"
   ]
  },
  {
   "attachments": {},
   "cell_type": "markdown",
   "metadata": {},
   "source": [
    "Ahora que tiene este problema. ¿Cómo puede Fritz limpiar el historial de modificación del proyecto?<br/>\n",
    "Recordemos que mantener un buen historial de modificaciones es el punto de usar un sistema de control de versiones como git.<br/>\n",
    "*Puede apoyarse de:*<br/>\n",
    "<span style=\"font-family: Consolas\">**<t/>git reset<br/>**</span>\n",
    "<span style=\"font-family: Consolas\">**<t/>git reflog<br/>**</span>"
   ]
  }
 ],
 "metadata": {
  "language_info": {
   "name": "python"
  },
  "orig_nbformat": 4
 },
 "nbformat": 4,
 "nbformat_minor": 2
}
