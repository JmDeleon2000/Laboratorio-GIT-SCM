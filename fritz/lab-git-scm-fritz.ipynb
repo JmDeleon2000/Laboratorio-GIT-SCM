{
 "cells": [
  {
   "attachments": {},
   "cell_type": "markdown",
   "metadata": {},
   "source": [
    "### Workstation de Fritz\n",
    "Frtiz acaba de regresar de vacaciones y se compró una nueva computadora.<br/>\n",
    "**¿Qué comandos necesita usar Fritz para clonar el repositiorio y ponerse al día con los *commits* hechos en su ausencia?**<br/>\n",
    "*TIP: El repositorio remoto se encuentra en /home/jovyan/repos/local*"
   ]
  },
  {
   "cell_type": "code",
   "execution_count": null,
   "metadata": {
    "vscode": {
     "languageId": "plaintext"
    }
   },
   "outputs": [],
   "source": [
    "%%bash\n",
    "echo \"A continuación escriba los comandos\""
   ]
  },
  {
   "attachments": {},
   "cell_type": "markdown",
   "metadata": {},
   "source": [
    "### Importante\n",
    "Luego de este paso, regrese al cuaderno en el espacio de trabajo de Max y continue aquí hasta que se le indique."
   ]
  },
  {
   "attachments": {},
   "cell_type": "markdown",
   "metadata": {},
   "source": [
    "Una vez se pone al día y almuerza, Fritz avanza con su trabajo:"
   ]
  },
  {
   "cell_type": "code",
   "execution_count": null,
   "metadata": {
    "vscode": {
     "languageId": "plaintext"
    }
   },
   "outputs": [],
   "source": [
    "%%bash\n",
    "echo \"codigo fuente\" > foo.js\n",
    "git add foo.js\n",
    "git commit -a -m \"Añadir login\" "
   ]
  },
  {
   "attachments": {},
   "cell_type": "markdown",
   "metadata": {},
   "source": [
    "Antes de hacer push, Fritz decide hacer fetch para ver si su trabajo causará un conflicto"
   ]
  },
  {
   "cell_type": "code",
   "execution_count": null,
   "metadata": {
    "vscode": {
     "languageId": "plaintext"
    }
   },
   "outputs": [],
   "source": [
    "%%bash\n",
    "git fetch origin master\n",
    "git log --graph --oneline --all"
   ]
  },
  {
   "attachments": {},
   "cell_type": "markdown",
   "metadata": {},
   "source": [
    "Afortunadamente, en esta situación es posible usar <span style=\"font-family: Consolas\">**git pull --rebase**</span> para automaticamente solucionar el conflicto sin necesidad de crear un *merge*."
   ]
  },
  {
   "cell_type": "code",
   "execution_count": null,
   "metadata": {
    "vscode": {
     "languageId": "plaintext"
    }
   },
   "outputs": [],
   "source": [
    "%%bash\n",
    "git pull --rebase origin master"
   ]
  },
  {
   "cell_type": "code",
   "execution_count": null,
   "metadata": {
    "vscode": {
     "languageId": "plaintext"
    }
   },
   "outputs": [],
   "source": [
    "%%bash\n",
    "git log --graph --oneline --all"
   ]
  },
  {
   "attachments": {},
   "cell_type": "markdown",
   "metadata": {},
   "source": [
    "### Importante\n",
    "Luego de este paso, continue desde el cuaderno en el área de trabajo de Óscar."
   ]
  },
  {
   "attachments": {},
   "cell_type": "markdown",
   "metadata": {},
   "source": [
    "Ahora que Óscar publicó su merge, Fritz se vuelve a encontrar con el mismo problema:"
   ]
  },
  {
   "cell_type": "code",
   "execution_count": null,
   "metadata": {
    "vscode": {
     "languageId": "plaintext"
    }
   },
   "outputs": [],
   "source": [
    "%%bash\n",
    "git fetch origin master\n",
    "git log --graph --oneline --all"
   ]
  },
  {
   "attachments": {},
   "cell_type": "markdown",
   "metadata": {},
   "source": [
    "Y ahora, si bien *rebase* resuelve el conflicto, no puede retirar el commit que Max quizo quitar del historial de modificación:"
   ]
  },
  {
   "cell_type": "code",
   "execution_count": null,
   "metadata": {
    "vscode": {
     "languageId": "plaintext"
    }
   },
   "outputs": [],
   "source": [
    "%%bash\n",
    "git pull --rebase origin master\n",
    "git log --graph --oneline --all"
   ]
  },
  {
   "attachments": {},
   "cell_type": "markdown",
   "metadata": {},
   "source": [
    "### Asignación:\n",
    "Ahora que tiene este problema. ¿Cómo puede Fritz limpiar el historial de modificación del proyecto?<br/>\n",
    "Recordemos que mantener un buen historial de modificaciones es el punto de usar un sistema de control de versiones como git. Por lo que mantener una historia sencilla y simple de entender tiene sus méritos.<br/><br/>\n",
    "***Puede apoyarse de:***<br/>\n",
    "\n",
    "- <span style=\"font-family: Consolas\">**git reflog<br/>**</span>\n",
    "- <span style=\"font-family: Consolas\">**git reset<br/>**</span>\n",
    "- <span style=\"font-family: Consolas\">**git rebase<br/>**</span>\n",
    "- <span style=\"font-family: Consolas\">**git checkout<br/>**</span>\n",
    "- <span style=\"font-family: Consolas\">**git cherry-pick<br/>**</span>\n",
    "- <span style=\"font-family: Consolas\">**git revert<br/>**</span>\n",
    "\n",
    "Además poyese también de: <br/>\n",
    "&nbsp;&nbsp;&nbsp;&nbsp;<span style=\"font-family: Consolas\">**git log --graph --oneline<br/>**</span>\n",
    "Esto le ayudará a previsualizar sus cambios antes de publicarlos a *origin*.\n",
    "\n",
    "***Tip:***<br/>\n",
    "Puede hacer uso de comandos que abran un editor al abrir la terminal desde el launcher (Ctrl+Shift+L):<br/>\n",
    "\n",
    "***Para comprobar:***<br/>\n",
    "Use<br/>\n",
    "&nbsp;&nbsp;&nbsp;&nbsp; <span style=\"font-family: Consolas\">**git log --graph --oneline --all<br/>**</span>\n",
    "Luego de haber hecho:<br/>\n",
    "&nbsp;&nbsp;&nbsp;&nbsp; <span style=\"font-family: Consolas\">**git push --force<br/>**</span><br/>\n",
    "\n",
    "**Se espera algo parecido siguiente\\***:<br/>\n",
    "```console\n",
    "* 1b2c6e0 Problema solucionado\n",
    "* 3205fe9 Añadir login\n",
    "* 620050a Hotfix y actualizar mensaje\n",
    "* 10fcfaa Crear static/screenMSG.txt\n",
    "* e1376e2 Crear configuración de servicio de oauth\n",
    "* a4c0334 Crear static/foo.txt\n",
    "```\n",
    "\\*Ignore los SHA-1 de cada commit. Lo importante es que no se crean ramas ni se incluye al *commit* con el mensaje \"Hotfix de configuración de servicio de oauth\", que es el que Max quizo retirar."
   ]
  },
  {
   "cell_type": "code",
   "execution_count": null,
   "metadata": {
    "vscode": {
     "languageId": "plaintext"
    }
   },
   "outputs": [],
   "source": [
    "%%bash\n",
    "echo \"A continuación escriba su solución\""
   ]
  },
  {
   "attachments": {},
   "cell_type": "markdown",
   "metadata": {},
   "source": [
    "### Extra:\n",
    "Una vez haya solucionado el problema, regrese a cualquiera de los otros 2 cuadernos y use <span style=\"font-family: Consolas\">**git fetch**</span>.<br/>\n",
    "Ellos tienen una historia diferente, pero existe un comando capaz de reconocer que los cambios de Fritz son equivalentes a los que ellos tienen en sus ramas locales y resolver el conflicto automáticamente.<br/>\n",
    "\n",
    "**¿Cuál es ese comando?**<br/>\n",
    "&emsp;Pruebe usarlo luego de haber hecho *fetch* en los otros cuadernos.\n",
    "<br/>\n",
    "\n",
    "En realidad, a Fritz le hace falta un paso. Recordemos que este problema ocurrió por una actualización forzada de la rama remota, es decir, cambiar la historia que todos conocían. Fritz necesita hacer eso nuevamente para solucionar el problema. Por lo que también debe asegurar que sus colegas usen el comando que reconciliará sus historias locales con la nueva historia común<br/>"
   ]
  }
 ],
 "metadata": {
  "language_info": {
   "name": "python"
  },
  "orig_nbformat": 4
 },
 "nbformat": 4,
 "nbformat_minor": 2
}
