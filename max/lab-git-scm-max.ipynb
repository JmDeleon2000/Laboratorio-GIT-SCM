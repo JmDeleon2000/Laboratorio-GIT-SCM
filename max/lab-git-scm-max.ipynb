{
 "cells": [
  {
   "attachments": {},
   "cell_type": "markdown",
   "metadata": {},
   "source": [
    "### Workstation de Max"
   ]
  },
  {
   "attachments": {},
   "cell_type": "markdown",
   "metadata": {},
   "source": [
    "### Importante\n",
    "Para seguir el laboratorio debe comenzar en el cuaderno que está en el área de trabajo de Fritz hasta que se le indique volver aquí."
   ]
  },
  {
   "attachments": {},
   "cell_type": "markdown",
   "metadata": {},
   "source": [
    "Mientras estaba almorzando, Max se dio cuenta de que no actualizó el mensaje de pantalla como le pidieron y decidió arreglar el problema sin que esto se notara en el historial de modificaciones. <br/> Para esto se le ocurrió usar <span style=\"font-family: Consolas\">**git commit --ammend**</span>"
   ]
  },
  {
   "attachments": {},
   "cell_type": "markdown",
   "metadata": {},
   "source": [
    "**Discuta**<br/>¿Por qué cree que Max decidió hacer esto? ¿Qué méritos tiene? ¿Lo considera justificable?"
   ]
  },
  {
   "cell_type": "code",
   "execution_count": null,
   "metadata": {
    "vscode": {
     "languageId": "plaintext"
    }
   },
   "outputs": [],
   "source": [
    "%%bash\n",
    "echo \"Mensaje actualizado\" > static/msg.txt\n",
    "git add static/msg.txt\n",
    "git commit -a --amend -m \"Hotfix y actualizar mensaje\""
   ]
  },
  {
   "attachments": {},
   "cell_type": "markdown",
   "metadata": {},
   "source": [
    "Para hacer *push*, Max debe forzar los cambios con <span style=\"font-family: Consolas\">**--force**</span>, ya que al usar <span style=\"font-family: Consolas\">**--ammend**</span> se trata de un cambio retroactivo el historial del repositorio en vez de simplemente añadir entradas nuevas. "
   ]
  },
  {
   "cell_type": "code",
   "execution_count": null,
   "metadata": {
    "vscode": {
     "languageId": "plaintext"
    }
   },
   "outputs": [],
   "source": [
    "%%bash\n",
    "git push origin master --force"
   ]
  },
  {
   "attachments": {},
   "cell_type": "markdown",
   "metadata": {},
   "source": [
    "**Notar que el historial de cambios no muestra ninguna rama ni problemas del lado de Max:**"
   ]
  },
  {
   "cell_type": "code",
   "execution_count": null,
   "metadata": {
    "vscode": {
     "languageId": "plaintext"
    }
   },
   "outputs": [],
   "source": [
    "%%bash\n",
    "git log --graph --oneline --all"
   ]
  },
  {
   "attachments": {},
   "cell_type": "markdown",
   "metadata": {},
   "source": [
    "### Importante\n",
    "Continue en el cuaderno en el área de trabajo de Fritz"
   ]
  }
 ],
 "metadata": {
  "language_info": {
   "name": "python"
  },
  "orig_nbformat": 4
 },
 "nbformat": 4,
 "nbformat_minor": 2
}
